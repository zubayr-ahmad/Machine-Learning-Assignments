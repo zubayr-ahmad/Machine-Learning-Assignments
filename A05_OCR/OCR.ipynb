{
 "cells": [
  {
   "attachments": {},
   "cell_type": "markdown",
   "metadata": {},
   "source": [
    "# OCR SYSTEM"
   ]
  },
  {
   "attachments": {},
   "cell_type": "markdown",
   "metadata": {},
   "source": [
    "#### Import Libraries"
   ]
  },
  {
   "cell_type": "code",
   "execution_count": 1,
   "metadata": {},
   "outputs": [],
   "source": [
    "%matplotlib inline\n",
    "import numpy as np\n",
    "from matplotlib import pyplot as plt\n",
    "import pandas as pd"
   ]
  },
  {
   "attachments": {},
   "cell_type": "markdown",
   "metadata": {},
   "source": [
    "#### Import sample images"
   ]
  },
  {
   "cell_type": "code",
   "execution_count": 2,
   "metadata": {},
   "outputs": [
    {
     "data": {
      "image/png": "[encoded data removed]",
      "text/plain": [
       "<Figure size 640x480 with 2 Axes>"
      ]
     },
     "metadata": {},
     "output_type": "display_data"
    }
   ],
   "source": [
    "img2=np.array([0,0,0,0,0,0,0,0,0,0,0,0,0,0,0,0,0,0,1,1,1,0,0,0,0,0,0,0,0,0,0,0,0,1,1,0,0,0,0,0,0,0,0,\n",
    "0,0,1,0,0,1,0,0,0,0,0,0,0,0,0,0,0,1,1,0,0,1,0,0,0,0,0,0,0,0,0,0,0,1,1,0,0,1,0,0,0,0,0,0,0,0,0,0,0,1,\n",
    "1,1,0,1,0,0,0,0,0,0,0,0,0,0,1,1,0,1,0,1,0,0,0,0,0,0,0,0,0,0,1,0,0,1,0,1,0,0,0,0,0,0,0,0,0,1,0,0,0,1,\n",
    "0,1,1,1,1,1,1,1,1,1,1,1,0,0,0,1,1,0,0,0,0,0,0,0,0,0,0,0,0,0,0,0,1,0,0,0,0,0,0,0,0,0,0,0,0,0,0,0,1,0,\n",
    "0,0,0,0,0,0,0,0,0,0,0,0,0,0,1,0,0,0,0,0,0,0,0,0,0,0,0,0,0,0,1,0,0,0,0,0,0,0,0,0,0,0,0,0,0,0,1,0,0,0,\n",
    "0,0,0,0,0,0,0,0,0,0,0,0,0],dtype=np.uint8)\n",
    "\n",
    "img4=np.array([0,0,0,0,0,0,0,0,0,0,0,0,0,0,0,0,0,0,0,0,0,0,0,0,0,0,0,0,0,0,0,0,0,0,0,0,0,0,0,1,0,0,0,\n",
    "0,0,0,0,0,1,1,1,1,1,1,1,1,0,0,0,0,0,0,0,0,0,0,0,0,0,0,0,1,0,0,0,0,0,0,0,1,0,0,0,0,0,0,0,1,0,0,0,0,0,\n",
    "1,1,1,0,0,0,0,0,0,1,0,0,0,1,1,1,0,0,0,0,0,0,0,0,0,1,0,0,1,1,0,0,0,0,0,0,0,0,0,0,0,1,1,1,0,0,0,0,0,0,\n",
    "0,0,1,1,1,1,1,1,0,0,0,0,0,0,0,0,0,1,1,0,0,0,1,0,0,0,0,0,0,0,0,0,0,0,0,0,0,0,1,0,0,0,0,0,0,0,0,0,0,0,\n",
    "0,0,0,1,1,0,0,0,0,0,0,0,0,0,0,0,0,0,0,0,1,0,0,0,0,0,0,0,0,0,0,0,0,0,0,0,0,0,0,0,0,0,0,0,0,0,0,0,0,0,\n",
    "0,0,0,0,0,0,0,0,0,0,0,0,0],dtype=np.uint8)\n",
    "\n",
    "img = np.reshape(img4,(16,16),order= 'F')\n",
    "img1 = np.reshape(img2,(16,16),order= 'F')\n",
    "\n",
    "fig, axes = plt.subplots(1, 2)\n",
    "axes[0].imshow(img)\n",
    "axes[0].set_title('Image of 4')\n",
    "axes[1].imshow(img1)\n",
    "axes[1].set_title('Image of 2')\n",
    "\n",
    "plt.tight_layout()\n",
    "\n",
    "plt.show()"
   ]
  },
  {
   "attachments": {},
   "cell_type": "markdown",
   "metadata": {},
   "source": [
    "## Import Data from the Files"
   ]
  },
  {
   "attachments": {},
   "cell_type": "markdown",
   "metadata": {},
   "source": [
    "#### Training Data"
   ]
  },
  {
   "cell_type": "code",
   "execution_count": 3,
   "metadata": {},
   "outputs": [
    {
     "name": "stdout",
     "output_type": "stream",
     "text": [
      "(500, 256)\n",
      "(500,)\n"
     ]
    }
   ],
   "source": [
    "#Your code here\n",
    "train_x = np.loadtxt(\"trainX.txt\")\n",
    "train_y = np.loadtxt(\"trainY.txt\")\n",
    "print(train_x.shape)\n",
    "print(train_y.shape)"
   ]
  },
  {
   "attachments": {},
   "cell_type": "markdown",
   "metadata": {},
   "source": [
    "Expected Output <br>\n",
    "- Shape of X_train : (500, 256) <br>\n",
    "- Shape of y_train : (500,)"
   ]
  },
  {
   "attachments": {},
   "cell_type": "markdown",
   "metadata": {},
   "source": [
    "### Testing Data"
   ]
  },
  {
   "cell_type": "code",
   "execution_count": 4,
   "metadata": {},
   "outputs": [
    {
     "name": "stdout",
     "output_type": "stream",
     "text": [
      "(100, 256)\n",
      "(100,)\n"
     ]
    }
   ],
   "source": [
    "#Your code here\n",
    "test_x = np.loadtxt(\"testX.txt\")\n",
    "test_y = np.loadtxt(\"testY.txt\")\n",
    "print(test_x.shape)\n",
    "print(test_y.shape)"
   ]
  },
  {
   "attachments": {},
   "cell_type": "markdown",
   "metadata": {},
   "source": [
    "Expected Output <br>\n",
    "- Shape of X_train : (100, 256) <br>\n",
    "- Shape of y_train : (100,)\n"
   ]
  },
  {
   "attachments": {},
   "cell_type": "markdown",
   "metadata": {},
   "source": [
    "### Dividing Data W.R.T its Classes"
   ]
  },
  {
   "attachments": {},
   "cell_type": "markdown",
   "metadata": {},
   "source": [
    "##### Training Data"
   ]
  },
  {
   "cell_type": "code",
   "execution_count": 5,
   "metadata": {},
   "outputs": [],
   "source": [
    "#AS we know first 250 images are of 2 so we will take first 250 images from X_train\n",
    "#your code here\n",
    "img2_X_train = train_x[:250]\n",
    "img4_X_train = train_x[250:]"
   ]
  },
  {
   "attachments": {},
   "cell_type": "markdown",
   "metadata": {},
   "source": [
    "##### Another way\n",
    "You can coment the below code if you dont want to try this effective way and will use the above code to divide the data into classes"
   ]
  },
  {
   "cell_type": "code",
   "execution_count": 6,
   "metadata": {},
   "outputs": [
    {
     "name": "stdout",
     "output_type": "stream",
     "text": [
      "(250, 256)\n",
      "(250, 256)\n"
     ]
    }
   ],
   "source": [
    "#But in case if we didn't know that first 250 images are of 2 then we can use this code\n",
    "#This img2_X_train will contain only only those images from X_train which have corespondong label of 2 in Y_train\n",
    "# img2_X_train = \n",
    "# img4_X_train = \n",
    "print(img2_X_train.shape)\n",
    "print(img4_X_train.shape)"
   ]
  },
  {
   "attachments": {},
   "cell_type": "markdown",
   "metadata": {},
   "source": [
    "Expected Output <br>\n",
    "- Shape of X_train : (250, 256) <br>\n",
    "- Shape of y_train : (250, 256)\n"
   ]
  },
  {
   "attachments": {},
   "cell_type": "markdown",
   "metadata": {},
   "source": [
    "##### Testing Data"
   ]
  },
  {
   "cell_type": "code",
   "execution_count": 7,
   "metadata": {},
   "outputs": [
    {
     "name": "stdout",
     "output_type": "stream",
     "text": [
      "(50, 256)\n",
      "(50, 256)\n"
     ]
    }
   ],
   "source": [
    "# Your code here\n",
    "\n",
    "img2_X_test = test_x[:50]\n",
    "img4_X_test = test_x[50:]\n",
    "print(img2_X_test.shape)\n",
    "print(img4_X_test.shape)"
   ]
  },
  {
   "attachments": {},
   "cell_type": "markdown",
   "metadata": {},
   "source": [
    "Expected Output <br>\n",
    "- Shape of X_train : (50, 256) <br>\n",
    "- Shape of y_train : (50, 256)\n"
   ]
  },
  {
   "attachments": {},
   "cell_type": "markdown",
   "metadata": {},
   "source": [
    "### Finding the Probabilities"
   ]
  },
  {
   "attachments": {},
   "cell_type": "markdown",
   "metadata": {},
   "source": [
    "### Training Data"
   ]
  },
  {
   "attachments": {},
   "cell_type": "markdown",
   "metadata": {},
   "source": [
    "##### Probabailty of 1s and 0s"
   ]
  },
  {
   "cell_type": "code",
   "execution_count": 8,
   "metadata": {},
   "outputs": [
    {
     "name": "stdout",
     "output_type": "stream",
     "text": [
      "(256,)\n",
      "(256,)\n",
      "(256,)\n",
      "(256,)\n"
     ]
    }
   ],
   "source": [
    "img2_one_prob = ((img2_X_train.sum(axis=0)) + 1)/(len(img2_X_train) + 2)  # applying add one smoothing\n",
    "img2_zero_prob = 1 - img2_one_prob\n",
    "img4_one_prob = ((img4_X_train.sum(axis=0)) + 1)/(len(img4_X_train) + 2)\n",
    "img4_zero_prob = 1 - img4_one_prob\n",
    "\n",
    "print(img2_one_prob.shape)\n",
    "print(img2_zero_prob.shape)\n",
    "print(img4_one_prob.shape)\n",
    "print(img4_zero_prob.shape)"
   ]
  },
  {
   "attachments": {},
   "cell_type": "markdown",
   "metadata": {},
   "source": [
    "Expected Output <br>\n",
    "- (256,)\n",
    "- (256,)\n",
    "- (256,)\n",
    "- (256,)\n"
   ]
  },
  {
   "attachments": {},
   "cell_type": "markdown",
   "metadata": {},
   "source": [
    "#### Class Probabilities"
   ]
  },
  {
   "cell_type": "code",
   "execution_count": 9,
   "metadata": {},
   "outputs": [
    {
     "name": "stdout",
     "output_type": "stream",
     "text": [
      "0.5\n",
      "0.5\n"
     ]
    }
   ],
   "source": [
    "# Your code here\n",
    "prob_2 = len(train_y[:250])/len(train_y)\n",
    "prob_4 = len(train_y[250:])/len(train_y)\n",
    "print(prob_2)\n",
    "print(prob_4)"
   ]
  },
  {
   "attachments": {},
   "cell_type": "markdown",
   "metadata": {},
   "source": [
    "#### Predictions"
   ]
  },
  {
   "cell_type": "code",
   "execution_count": 10,
   "metadata": {},
   "outputs": [
    {
     "data": {
      "text/plain": [
       "array([2, 2, 2, 2, 2, 2, 2, 2, 2, 2, 2, 2, 2, 2, 2, 2, 2, 2, 2, 2, 2, 2,\n",
       "       2, 2, 2, 2, 2, 2, 2, 2, 2, 2, 2, 2, 2, 2, 2, 2, 2, 2, 2, 2, 2, 2,\n",
       "       2, 2, 2, 2, 2, 2, 2, 2, 2, 2, 2, 2, 2, 2, 2, 2, 2, 2, 2, 2, 2, 2,\n",
       "       2, 2, 2, 2, 2, 2, 2, 2, 2, 2, 2, 2, 2, 2, 2, 2, 2, 2, 2, 2, 2, 2,\n",
       "       2, 2, 2, 2, 2, 2, 2, 2, 2, 2, 2, 2, 2, 2, 4, 2, 2, 2, 2, 2, 2, 2,\n",
       "       2, 2, 2, 2, 2, 2, 2, 2, 2, 2, 2, 2, 2, 2, 2, 2, 2, 2, 2, 2, 2, 2,\n",
       "       2, 2, 4, 2, 4, 2, 2, 2, 2, 2, 2, 2, 2, 2, 2, 2, 2, 4, 2, 2, 2, 2,\n",
       "       2, 2, 2, 2, 2, 2, 2, 2, 2, 2, 2, 2, 2, 2, 2, 2, 2, 2, 2, 2, 2, 2,\n",
       "       2, 2, 2, 2, 2, 2, 2, 2, 2, 2, 2, 2, 2, 2, 2, 2, 2, 2, 2, 2, 2, 2,\n",
       "       2, 2, 2, 2, 2, 2, 2, 2, 2, 2, 2, 2, 2, 2, 2, 2, 2, 2, 2, 2, 2, 2,\n",
       "       2, 2, 2, 2, 2, 2, 2, 2, 2, 2, 2, 2, 2, 2, 2, 2, 2, 2, 2, 2, 2, 2,\n",
       "       2, 2, 2, 2, 2, 2, 2, 2, 4, 4, 4, 4, 4, 4, 4, 4, 4, 4, 4, 4, 4, 4,\n",
       "       4, 4, 4, 4, 4, 4, 4, 4, 4, 4, 4, 4, 4, 4, 4, 4, 4, 4, 4, 2, 4, 4,\n",
       "       4, 4, 4, 4, 4, 4, 4, 4, 4, 4, 4, 4, 4, 4, 4, 4, 4, 4, 4, 4, 4, 4,\n",
       "       4, 4, 4, 4, 4, 4, 4, 4, 4, 4, 4, 4, 4, 4, 4, 4, 4, 4, 4, 4, 4, 4,\n",
       "       4, 4, 4, 4, 4, 4, 4, 4, 4, 4, 4, 4, 4, 4, 4, 4, 4, 4, 4, 4, 4, 4,\n",
       "       4, 4, 4, 4, 4, 4, 4, 4, 4, 4, 4, 4, 4, 4, 4, 4, 4, 4, 4, 4, 4, 4,\n",
       "       4, 4, 4, 4, 4, 4, 4, 4, 4, 2, 4, 4, 4, 4, 4, 4, 4, 4, 4, 4, 4, 4,\n",
       "       4, 4, 4, 4, 4, 4, 4, 4, 4, 4, 4, 4, 4, 4, 4, 4, 4, 4, 4, 4, 4, 4,\n",
       "       4, 4, 4, 4, 4, 4, 4, 4, 4, 4, 4, 4, 4, 4, 4, 4, 4, 4, 4, 4, 4, 4,\n",
       "       4, 4, 4, 4, 4, 4, 4, 4, 4, 4, 4, 4, 4, 4, 4, 4, 4, 4, 4, 4, 4, 4,\n",
       "       4, 4, 4, 4, 4, 4, 4, 4, 4, 4, 4, 4, 4, 4, 4, 4, 4, 4, 4, 4, 4, 4,\n",
       "       4, 4, 4, 4, 4, 4, 4, 4, 4, 4, 4, 4, 4, 4, 4, 4])"
      ]
     },
     "execution_count": 10,
     "metadata": {},
     "output_type": "execute_result"
    }
   ],
   "source": [
    "# Your code here\n",
    "# axis = 1 means we are taking product of each row\n",
    "# select probability form one and zero array based on the value of train_x using where clause\n",
    "pred_2 = np.array(np.prod(np.where(train_x == 1, img2_one_prob, img2_zero_prob), axis=1)*prob_2)\n",
    "pred_4 = np.array(np.prod(np.where(train_x == 1, img4_one_prob, img4_zero_prob), axis=1)*prob_4)\n",
    "predictions_train = np.where(pred_2 > pred_4, 2, 4)\n",
    "predictions_train\n"
   ]
  },
  {
   "cell_type": "code",
   "execution_count": 11,
   "metadata": {},
   "outputs": [
    {
     "data": {
      "image/png": "[encoded data removed]",
      "text/plain": [
       "<Figure size 640x480 with 1 Axes>"
      ]
     },
     "metadata": {},
     "output_type": "display_data"
    }
   ],
   "source": [
    "img = np.reshape(test_x[9],(16,16),order= 'F')\n",
    "plt.imshow(img)\n",
    "plt.show()"
   ]
  },
  {
   "attachments": {},
   "cell_type": "markdown",
   "metadata": {},
   "source": [
    "#### Overall Accuracy"
   ]
  },
  {
   "cell_type": "code",
   "execution_count": 12,
   "metadata": {},
   "outputs": [
    {
     "name": "stdout",
     "output_type": "stream",
     "text": [
      "Actual:2 | Pred:2 --> 246\n",
      "Actual:4 | Pred:4 --> 248\n",
      "Actual:4 | Pred:2 --> 2\n",
      "Actual:2 | Pred:4 --> 4\n",
      "\n",
      "Overall Accuracy =  0.988\n"
     ]
    }
   ],
   "source": [
    "# Your code here\n",
    "TN = predictions_train[(predictions_train == 2) & (predictions_train == train_y)]\n",
    "print(\"Actual:2 | Pred:2 -->\",len(TN))\n",
    "TP = predictions_train[(predictions_train == 4) & (predictions_train == train_y)]\n",
    "print(\"Actual:4 | Pred:4 -->\",len(TP))\n",
    "FN = predictions_train[(predictions_train == 2) & (predictions_train != train_y)]\n",
    "print(\"Actual:4 | Pred:2 -->\",len(FN))\n",
    "FP = predictions_train[(predictions_train == 4) & (predictions_train != train_y)]\n",
    "print(\"Actual:2 | Pred:4 -->\",len(FP))\n",
    "\n",
    "overall_Accuracy = (len(TP) + len(TN))/len(train_y)\n",
    "print(\"\\nOverall Accuracy = \", overall_Accuracy)"
   ]
  },
  {
   "attachments": {},
   "cell_type": "markdown",
   "metadata": {},
   "source": [
    "Expected Output \n",
    "<br><br>\n",
    "**Confusion Matrix**\n",
    "<br>\n",
    "TP =  248 \tFP =  4\n",
    "<br>\n",
    "FN =  2 \tTN =  246\n",
    "<br>\n",
    "- Overall Accuracy =  0.988"
   ]
  },
  {
   "attachments": {},
   "cell_type": "markdown",
   "metadata": {},
   "source": [
    "#### Classwise Accuracy"
   ]
  },
  {
   "cell_type": "code",
   "execution_count": 13,
   "metadata": {},
   "outputs": [
    {
     "name": "stdout",
     "output_type": "stream",
     "text": [
      "Total accuracy of Training data given class 2:  0.984\n",
      "Total accuracy of Training data given class 4:  0.992\n"
     ]
    }
   ],
   "source": [
    "# Your code here\n",
    "class2_train_total_accuracy = len(TN)/250\n",
    "class4_train_total_accuracy = len(TP)/250\n",
    "\n",
    "print(\"Total accuracy of Training data given class 2: \", class2_train_total_accuracy)\n",
    "print(\"Total accuracy of Training data given class 4: \" , class4_train_total_accuracy)"
   ]
  },
  {
   "attachments": {},
   "cell_type": "markdown",
   "metadata": {},
   "source": [
    "Expected Output <br>\n",
    "\n",
    "- Total accuracy of Training data given class 2:  0.984\n",
    "<br>\n",
    "- Total accuracy of Training data given class 4:  0.992"
   ]
  },
  {
   "attachments": {},
   "cell_type": "markdown",
   "metadata": {},
   "source": [
    "### FOR TESTING DATA"
   ]
  },
  {
   "attachments": {},
   "cell_type": "markdown",
   "metadata": {},
   "source": [
    "##### Probabailty of 1s and 0s"
   ]
  },
  {
   "cell_type": "code",
   "execution_count": 14,
   "metadata": {},
   "outputs": [
    {
     "name": "stdout",
     "output_type": "stream",
     "text": [
      "(256,)\n",
      "(256,)\n",
      "(256,)\n",
      "(256,)\n"
     ]
    }
   ],
   "source": [
    "img2_one_prob = ((img2_X_test.sum(axis=0)) + 1)/(len(img2_X_test) + 2)\n",
    "img2_zero_prob = 1 - img2_one_prob\n",
    "img4_one_prob = ((img4_X_test.sum(axis=0)) + 1)/(len(img4_X_test) + 2)\n",
    "img4_zero_prob = 1 - img4_one_prob\n",
    "\n",
    "print(img2_one_prob.shape)\n",
    "print(img2_zero_prob.shape)\n",
    "print(img4_one_prob.shape)\n",
    "print(img4_zero_prob.shape)"
   ]
  },
  {
   "attachments": {},
   "cell_type": "markdown",
   "metadata": {},
   "source": [
    "#### Class Probabilities"
   ]
  },
  {
   "cell_type": "code",
   "execution_count": 15,
   "metadata": {},
   "outputs": [
    {
     "name": "stdout",
     "output_type": "stream",
     "text": [
      "0.5\n",
      "0.5\n"
     ]
    }
   ],
   "source": [
    "# your code here\n",
    "prob_2 = len(test_y[:50])/len(test_y)\n",
    "prob_4 = len(test_y[50:])/len(test_y)\n",
    "print(prob_2)\n",
    "print(prob_4)"
   ]
  },
  {
   "attachments": {},
   "cell_type": "markdown",
   "metadata": {},
   "source": [
    "#### Predictions"
   ]
  },
  {
   "cell_type": "code",
   "execution_count": 16,
   "metadata": {},
   "outputs": [
    {
     "data": {
      "text/plain": [
       "array([2, 2, 2, 2, 2, 2, 2, 2, 2, 2, 2, 2, 2, 2, 2, 2, 2, 2, 2, 2, 2, 2,\n",
       "       2, 2, 2, 2, 2, 2, 2, 2, 2, 2, 2, 2, 2, 2, 2, 2, 2, 2, 2, 2, 2, 2,\n",
       "       2, 2, 2, 2, 2, 2, 4, 4, 4, 4, 4, 4, 4, 4, 4, 4, 4, 4, 4, 4, 4, 4,\n",
       "       4, 4, 4, 4, 4, 4, 4, 4, 4, 4, 4, 4, 4, 4, 4, 4, 4, 4, 4, 4, 4, 4,\n",
       "       4, 4, 4, 4, 4, 4, 4, 4, 4, 4, 4, 4])"
      ]
     },
     "execution_count": 16,
     "metadata": {},
     "output_type": "execute_result"
    }
   ],
   "source": [
    "# your code here\n",
    "pred_2 = np.array(np.prod(np.where(test_x == 1, img2_one_prob, img2_zero_prob), axis=1)*prob_2)\n",
    "pred_4 = np.array(np.prod(np.where(test_x == 1, img4_one_prob, img4_zero_prob), axis=1)*prob_4)\n",
    "predictions_test = np.where(pred_2 > pred_4, 2, 4)\n",
    "predictions_test\n",
    "\n",
    "\n"
   ]
  },
  {
   "attachments": {},
   "cell_type": "markdown",
   "metadata": {},
   "source": [
    "#### Classwise Accuracy"
   ]
  },
  {
   "cell_type": "code",
   "execution_count": 17,
   "metadata": {},
   "outputs": [
    {
     "name": "stdout",
     "output_type": "stream",
     "text": [
      "Total accuracy of Testing data given class 2:  1.0\n",
      "Total accuracy of Testing data given class 4:  1.0\n"
     ]
    }
   ],
   "source": [
    "# your code here\n",
    "class2_test_total_accuracy = len(predictions_test[(predictions_test == 2) & (predictions_test == test_y)])/50\n",
    "class4_test_total_accuracy = len(predictions_test[(predictions_test == 4) & (predictions_test == test_y)])/50\n",
    "\n",
    "print(\"Total accuracy of Testing data given class 2: \", class2_test_total_accuracy)\n",
    "print(\"Total accuracy of Testing data given class 4: \", class4_test_total_accuracy)"
   ]
  },
  {
   "attachments": {},
   "cell_type": "markdown",
   "metadata": {},
   "source": [
    "Expected Output <br>\n",
    "\n",
    "- Total accuracy of Testing data given class 2:  1.0\n",
    "<br>\n",
    "- Total accuracy of Testing data given class 4:  1.0"
   ]
  },
  {
   "attachments": {},
   "cell_type": "markdown",
   "metadata": {},
   "source": [
    "#### Overall Accuracy"
   ]
  },
  {
   "cell_type": "code",
   "execution_count": 18,
   "metadata": {},
   "outputs": [
    {
     "name": "stdout",
     "output_type": "stream",
     "text": [
      "Actual:2 | Pred:2 --> 50\n",
      "Actual:4 | Pred:4 --> 50\n",
      "Actual:4 | Pred:2 --> 0\n",
      "Actual:2 | Pred:4 --> 0\n",
      "\n",
      "Overall Accuracy =  1.0\n"
     ]
    }
   ],
   "source": [
    "# your code here \n",
    "TN = predictions_test[(predictions_test == 2) & (predictions_test == test_y)]\n",
    "print(\"Actual:2 | Pred:2 -->\",len(TN))\n",
    "TP = predictions_test[(predictions_test == 4) & (predictions_test == test_y)]\n",
    "print(\"Actual:4 | Pred:4 -->\",len(TP))\n",
    "FN = predictions_test[(predictions_test == 2) & (predictions_test != test_y)]\n",
    "print(\"Actual:4 | Pred:2 -->\",len(FN))\n",
    "FP = predictions_test[(predictions_test == 4) & (predictions_test != test_y)]\n",
    "print(\"Actual:2 | Pred:4 -->\",len(FP))\n",
    "\n",
    "overall_Accuracy = (len(TP) + len(TN))/len(test_y)\n",
    "print(\"\\nOverall Accuracy = \", overall_Accuracy)\n"
   ]
  },
  {
   "attachments": {},
   "cell_type": "markdown",
   "metadata": {},
   "source": [
    "Expected Output \n",
    "<br><br>\n",
    "**Confusion Matrix**\n",
    "<br>\n",
    "TP =  50 \tFP =  0\n",
    "<br>\n",
    "FN =  0 \tTN =  50\n",
    "<br>\n",
    "- Overall Accuracy =  1.0"
   ]
  },
  {
   "attachments": {},
   "cell_type": "markdown",
   "metadata": {},
   "source": [
    "### Plot your Test pixels/features in form of image to correctly identify whether our model is giving correct results"
   ]
  },
  {
   "attachments": {},
   "cell_type": "markdown",
   "metadata": {},
   "source": [
    "2 plots for each class"
   ]
  },
  {
   "cell_type": "code",
   "execution_count": 24,
   "metadata": {},
   "outputs": [
    {
     "data": {
      "image/png": "[encoded data removed]",
      "text/plain": [
       "<Figure size 640x480 with 1 Axes>"
      ]
     },
     "metadata": {},
     "output_type": "display_data"
    }
   ],
   "source": [
    "img_label = predictions_test[9]\n",
    "img = np.reshape(test_x[9],(16,16),order= 'F')\n",
    "plt.title('Predicted Label: '+str(img_label))\n",
    "plt.imshow(img)\n",
    "plt.show()\n"
   ]
  },
  {
   "cell_type": "code",
   "execution_count": 25,
   "metadata": {},
   "outputs": [
    {
     "data": {
      "image/png": "[encoded data removed]",
      "text/plain": [
       "<Figure size 640x480 with 1 Axes>"
      ]
     },
     "metadata": {},
     "output_type": "display_data"
    }
   ],
   "source": [
    "img_label = predictions_test[45]\n",
    "img = np.reshape(test_x[45],(16,16),order= 'F')\n",
    "plt.title('Predicted Label: '+str(img_label))\n",
    "plt.imshow(img)\n",
    "plt.show()"
   ]
  },
  {
   "cell_type": "code",
   "execution_count": 26,
   "metadata": {},
   "outputs": [
    {
     "data": {
      "image/png": "[encoded data removed]",
      "text/plain": [
       "<Figure size 640x480 with 1 Axes>"
      ]
     },
     "metadata": {},
     "output_type": "display_data"
    }
   ],
   "source": [
    "img_label = predictions_test[79]\n",
    "img = np.reshape(test_x[79],(16,16),order= 'F')\n",
    "plt.title('Predicted Label: '+str(img_label))\n",
    "plt.imshow(img)\n",
    "plt.show()"
   ]
  },
  {
   "cell_type": "code",
   "execution_count": 28,
   "metadata": {},
   "outputs": [
    {
     "data": {
      "image/png": "[encoded data removed]",
      "text/plain": [
       "<Figure size 640x480 with 1 Axes>"
      ]
     },
     "metadata": {},
     "output_type": "display_data"
    }
   ],
   "source": [
    "img_label = predictions_test[68]\n",
    "img = np.reshape(test_x[68],(16,16),order= 'F')\n",
    "plt.title('Predicted Label: '+str(img_label))\n",
    "plt.imshow(img)\n",
    "plt.show()"
   ]
  },
  {
   "attachments": {},
   "cell_type": "markdown",
   "metadata": {},
   "source": [
    "Your Oppinion on the results about why naive bayes worked well for  this OCR\n",
    "and give one example where naive bayes can not be used\n"
   ]
  },
  {
   "attachments": {},
   "cell_type": "markdown",
   "metadata": {},
   "source": [
    "Solution :"
   ]
  },
  {
   "attachments": {},
   "cell_type": "markdown",
   "metadata": {},
   "source": [
    "Naive Bayes worked well for this OCR because it is a simple and fast classification algorithm that is often suitable for very high-dimensional datasets. It is also known to outperform even highly sophisticated classification methods.\n",
    "\n",
    "Naive Bayes can not be used in the case of a regression problem where the relationship between the features and the target variable is not linear. It also assumes that the features are independent of each other which is not always the case in real-world problems."
   ]
  },
  {
   "cell_type": "markdown",
   "metadata": {},
   "source": []
  }
 ],
 "metadata": {
  "kernelspec": {
   "display_name": "mlenv",
   "language": "python",
   "name": "mlenv"
  },
  "language_info": {
   "codemirror_mode": {
    "name": "ipython",
    "version": 3
   },
   "file_extension": ".py",
   "mimetype": "text/x-python",
   "name": "python",
   "nbconvert_exporter": "python",
   "pygments_lexer": "ipython3",
   "version": "3.11.3"
  },
  "orig_nbformat": 4
 },
 "nbformat": 4,
 "nbformat_minor": 2
}
