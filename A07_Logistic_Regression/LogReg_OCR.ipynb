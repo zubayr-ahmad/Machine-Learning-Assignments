{
 "cells": [
  {
   "cell_type": "markdown",
   "metadata": {},
   "source": [
    "# 3. OCR using Logistic Regression"
   ]
  },
  {
   "cell_type": "code",
   "execution_count": 123,
   "metadata": {},
   "outputs": [],
   "source": [
    "import numpy as np\n",
    "import matplotlib.pyplot as plt"
   ]
  },
  {
   "cell_type": "markdown",
   "metadata": {},
   "source": [
    "## Loading Data"
   ]
  },
  {
   "cell_type": "code",
   "execution_count": 124,
   "metadata": {},
   "outputs": [
    {
     "name": "stdout",
     "output_type": "stream",
     "text": [
      "(500, 256)\n",
      "(100, 256)\n"
     ]
    }
   ],
   "source": [
    "# Data for OCR\n",
    "train_x = np.loadtxt('Data/trainX.txt')\n",
    "train_y = np.loadtxt('Data/trainY.txt')\n",
    "test_x = np.loadtxt('Data/testX.txt')\n",
    "test_y = np.loadtxt('Data/testY.txt')\n",
    "print(train_x.shape)\n",
    "print(test_x.shape)"
   ]
  },
  {
   "cell_type": "markdown",
   "metadata": {},
   "source": [
    "## Processing Data"
   ]
  },
  {
   "cell_type": "code",
   "execution_count": 125,
   "metadata": {},
   "outputs": [],
   "source": [
    "# Add a column of ones to X to account for the bias term\n",
    "train_x = np.hstack((np.ones((train_x.shape[0], 1)), train_x))\n",
    "test_x = np.hstack((np.ones((test_x.shape[0], 1)), test_x))"
   ]
  },
  {
   "cell_type": "code",
   "execution_count": 126,
   "metadata": {},
   "outputs": [],
   "source": [
    "# Encode labels as 0 and 1. 0 for digit 2 and 1 for digit 4\n",
    "train_y = np.where(train_y == 2, 0, 1)\n",
    "test_y = np.where(test_y == 2, 0, 1)"
   ]
  },
  {
   "cell_type": "markdown",
   "metadata": {},
   "source": [
    "## Sigmoid and Cost Function"
   ]
  },
  {
   "cell_type": "code",
   "execution_count": 127,
   "metadata": {},
   "outputs": [],
   "source": [
    "def sigmoid(z):\n",
    "    return 1 / (1 + np.exp(-z))\n",
    "\n",
    "def compute_cost(X, y, weights):\n",
    "    m = X.shape[0]\n",
    "    h = sigmoid(np.dot(X, weights))\n",
    "    cost = -1/m * (np.dot(y, np.log(h)) + np.dot((1-y), np.log(1-h)))\n",
    "    return cost"
   ]
  },
  {
   "cell_type": "markdown",
   "metadata": {},
   "source": [
    "## Classification Function"
   ]
  },
  {
   "cell_type": "code",
   "execution_count": 128,
   "metadata": {},
   "outputs": [],
   "source": [
    "def predict(X, weights):\n",
    "    return sigmoid(np.dot(X, weights)) >= 0.5"
   ]
  },
  {
   "cell_type": "markdown",
   "metadata": {},
   "source": [
    "## Compute Gradient"
   ]
  },
  {
   "cell_type": "code",
   "execution_count": 129,
   "metadata": {},
   "outputs": [],
   "source": [
    "def gradient_descent(X, y, weights, eta, num_iterations):\n",
    "    m = X.shape[0]\n",
    "    for i in range(num_iterations):\n",
    "        h = sigmoid(np.dot(X, weights))\n",
    "        gradient = np.dot(X.T, (h - y)) / m\n",
    "        weights -= eta * gradient\n",
    "    return weights"
   ]
  },
  {
   "cell_type": "markdown",
   "metadata": {},
   "source": [
    "## Applying Model"
   ]
  },
  {
   "cell_type": "code",
   "execution_count": 130,
   "metadata": {},
   "outputs": [],
   "source": [
    "def train_model(X, y, eta, num_iterations=6000, target_accuracy=0.9):\n",
    "    m, n = X.shape\n",
    "    np.random.seed(25)\n",
    "    weights = np.random.rand(n)   \n",
    "    for i in range(num_iterations):\n",
    "        weights = gradient_descent(X, y, weights, eta, 1)\n",
    "        predictions = predict(X, weights)\n",
    "        accuracy = np.mean(predictions == y)\n",
    "        if accuracy >= target_accuracy:\n",
    "            print(f\"Reached target accuracy: {accuracy*100:.2f}% at iteration {i+1}\")\n",
    "            break\n",
    "    return weights, accuracy"
   ]
  },
  {
   "cell_type": "markdown",
   "metadata": {},
   "source": [
    "## Getting Predictions"
   ]
  },
  {
   "cell_type": "code",
   "execution_count": 131,
   "metadata": {},
   "outputs": [
    {
     "name": "stdout",
     "output_type": "stream",
     "text": [
      "Reached target accuracy: 90.20% at iteration 48\n",
      "Learning Rate: 0.1, Training Accuracy: 90.20%, Testing Accuracy: 98.00%\n",
      "\n",
      "Reached target accuracy: 90.00% at iteration 486\n",
      "Learning Rate: 0.01, Training Accuracy: 90.00%, Testing Accuracy: 98.00%\n",
      "\n",
      "Reached target accuracy: 90.00% at iteration 4862\n",
      "Learning Rate: 0.001, Training Accuracy: 90.00%, Testing Accuracy: 98.00%\n",
      "\n"
     ]
    }
   ],
   "source": [
    "learning_rates = [0.1, 0.01, 0.001]\n",
    "results = {}\n",
    "\n",
    "for eta in learning_rates:\n",
    "    weights, train_accuracy = train_model(train_x, train_y, eta)\n",
    "    test_predictions = predict(test_x, weights)\n",
    "    test_accuracy = np.mean(test_predictions == test_y)\n",
    "    results[eta] = (train_accuracy, test_accuracy, weights)\n",
    "    print(f\"Learning Rate: {eta}, Training Accuracy: {train_accuracy*100:.2f}%, Testing Accuracy: {test_accuracy*100:.2f}%\")\n",
    "    print()\n",
    "\n"
   ]
  },
  {
   "cell_type": "markdown",
   "metadata": {},
   "source": [
    "## Final Results"
   ]
  },
  {
   "cell_type": "code",
   "execution_count": 132,
   "metadata": {},
   "outputs": [
    {
     "name": "stdout",
     "output_type": "stream",
     "text": [
      "Final Results:\n",
      "Learning Rate: 0.1, Final Training Accuracy: 90.20%, Final Testing Accuracy: 98.00%\n",
      "Learning Rate: 0.01, Final Training Accuracy: 90.00%, Final Testing Accuracy: 98.00%\n",
      "Learning Rate: 0.001, Final Training Accuracy: 90.00%, Final Testing Accuracy: 98.00%\n"
     ]
    }
   ],
   "source": [
    "print(\"Final Results:\")\n",
    "# Print final results\n",
    "for eta, (train_accuracy, test_accuracy, weights) in results.items():\n",
    "    print(f\"Learning Rate: {eta}, Final Training Accuracy: {train_accuracy*100:.2f}%, Final Testing Accuracy: {test_accuracy*100:.2f}%\")"
   ]
  }
 ],
 "metadata": {
  "kernelspec": {
   "display_name": "mlenv",
   "language": "python",
   "name": "mlenv"
  },
  "language_info": {
   "codemirror_mode": {
    "name": "ipython",
    "version": 3
   },
   "file_extension": ".py",
   "mimetype": "text/x-python",
   "name": "python",
   "nbconvert_exporter": "python",
   "pygments_lexer": "ipython3",
   "version": "3.11.3"
  }
 },
 "nbformat": 4,
 "nbformat_minor": 2
}
