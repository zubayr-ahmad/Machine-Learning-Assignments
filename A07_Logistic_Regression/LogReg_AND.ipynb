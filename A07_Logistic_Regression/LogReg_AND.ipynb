{
 "cells": [
  {
   "cell_type": "markdown",
   "metadata": {},
   "source": [
    "# 1. AND Gate using Logistic Regression"
   ]
  },
  {
   "cell_type": "code",
   "execution_count": 23,
   "metadata": {},
   "outputs": [],
   "source": [
    "import numpy as np\n",
    "import matplotlib.pyplot as plt"
   ]
  },
  {
   "cell_type": "markdown",
   "metadata": {},
   "source": [
    "## Setting up initial parameters"
   ]
  },
  {
   "cell_type": "code",
   "execution_count": 24,
   "metadata": {},
   "outputs": [],
   "source": [
    "# Data for AND gate\n",
    "train_x = np.array([[0, 0, 1, 1], [0, 1, 0, 1]])\n",
    "train_y = np.array([0, 0, 0, 1])\n",
    "# Initial weights\n",
    "w = np.array([0.1, 0.2, 0.5])\n",
    "\n",
    "eta = 0.1        # Learning rate\n",
    "\n",
    "threshold = 0.5     # Threshold"
   ]
  },
  {
   "cell_type": "markdown",
   "metadata": {},
   "source": [
    "## Sigmoid and Classification functions"
   ]
  },
  {
   "cell_type": "code",
   "execution_count": 25,
   "metadata": {},
   "outputs": [],
   "source": [
    "# Sigmoid function\n",
    "def sigmoid_func(x):\n",
    "    return 1 / (1 + 2.71828 ** -x)\n",
    "\n",
    "# Classify function\n",
    "def classify(val):\n",
    "    if val > threshold:\n",
    "        return 1\n",
    "    else:\n",
    "        return 0"
   ]
  },
  {
   "cell_type": "markdown",
   "metadata": {},
   "source": [
    "### Plotting the data"
   ]
  },
  {
   "cell_type": "code",
   "execution_count": 26,
   "metadata": {},
   "outputs": [
    {
     "data": {
      "text/plain": [
       "<matplotlib.collections.PathCollection at 0x1a7ff43b550>"
      ]
     },
     "execution_count": 26,
     "metadata": {},
     "output_type": "execute_result"
    },
    {
     "data": {
      "image/png": "[encoded data removed]",
      "text/plain": [
       "<Figure size 400x300 with 1 Axes>"
      ]
     },
     "metadata": {},
     "output_type": "display_data"
    }
   ],
   "source": [
    "# Plot the graph of input data\n",
    "plt.figure(figsize=(4, 3))\n",
    "plt.scatter(train_x[0], train_x[1], c=train_y, cmap='coolwarm')"
   ]
  },
  {
   "cell_type": "markdown",
   "metadata": {},
   "source": [
    "## Cost Function and Gradient Calculation"
   ]
  },
  {
   "cell_type": "code",
   "execution_count": 27,
   "metadata": {},
   "outputs": [],
   "source": [
    "# Compute the cost function for logistic regression\n",
    "def cost_function(w, x, y):\n",
    "    m = len(y)\n",
    "    h = sigmoid_func(w[0]+w[1]*x[0]+w[2]*x[1])\n",
    "    return (-1/m) * np.sum(y * np.log(h) + (1 - y)*(np.log(1 - h))) "
   ]
  },
  {
   "cell_type": "code",
   "execution_count": 28,
   "metadata": {},
   "outputs": [],
   "source": [
    "# Compute the gradient of the cost function\n",
    "def compute_gradient(w, x, y):\n",
    "    m = len(y)\n",
    "    h = sigmoid_func(w[0]+w[1]*x[0]+w[2]*x[1])\n",
    "    w0 = (1/m) * np.sum(h - y)\n",
    "    w1 = (1/m) * np.sum((h - y) * x[0])\n",
    "    w2 = (1/m) * np.sum((h - y) * x[1])\n",
    "    return np.array([w0, w1, w2])\n",
    "    "
   ]
  },
  {
   "cell_type": "markdown",
   "metadata": {},
   "source": [
    "## Applying Gradient Descent"
   ]
  },
  {
   "cell_type": "code",
   "execution_count": 29,
   "metadata": {},
   "outputs": [],
   "source": [
    "# Apply gradient descent\n",
    "def gradient_descent(w, x, y, eta, iterations = 1000):\n",
    "    for i in range(iterations):\n",
    "        w = w - eta * compute_gradient(w, x, y)\n",
    "    return w"
   ]
  },
  {
   "cell_type": "code",
   "execution_count": 30,
   "metadata": {},
   "outputs": [
    {
     "name": "stdout",
     "output_type": "stream",
     "text": [
      "[-3.38505506  2.06889399  2.09348852]\n"
     ]
    }
   ],
   "source": [
    "# Train the model\n",
    "w = gradient_descent(w, train_x, train_y, eta, iterations=500)\n",
    "print(w)"
   ]
  },
  {
   "cell_type": "markdown",
   "metadata": {},
   "source": [
    "## Testing the model"
   ]
  },
  {
   "cell_type": "code",
   "execution_count": 31,
   "metadata": {},
   "outputs": [
    {
     "name": "stdout",
     "output_type": "stream",
     "text": [
      "[0, 0, 0, 1]\n"
     ]
    }
   ],
   "source": [
    "# Make predictions\n",
    "predictions = []\n",
    "for i in range(len(train_y)):\n",
    "    predictions.append(classify(sigmoid_func(w[0]+w[1]*train_x[0][i]+w[2]*train_x[1][i])))\n",
    "print(predictions)"
   ]
  },
  {
   "cell_type": "markdown",
   "metadata": {},
   "source": [
    "## Plotting the decision boundary"
   ]
  },
  {
   "cell_type": "code",
   "execution_count": 32,
   "metadata": {},
   "outputs": [
    {
     "data": {
      "image/png": "[encoded data removed]",
      "text/plain": [
       "<Figure size 400x300 with 1 Axes>"
      ]
     },
     "metadata": {},
     "output_type": "display_data"
    }
   ],
   "source": [
    "# Plot predictions of AND gate and draw the linearly separable line\n",
    "plt.figure(figsize=(4, 3))\n",
    "plt.scatter(train_x[0], train_x[1], c=predictions, cmap='coolwarm')\n",
    "x = np.linspace(-0.5, 1.5, 100)\n",
    "y = -w[0]/w[2] + (-w[1]/w[2]) * x   # m = -w[1]/w[2], c = -w[0]/w[2]\n",
    "# -ve sign is used because the y-axis is inverted in matplotlib\n",
    "plt.plot(x, y)\n",
    "plt.show()"
   ]
  },
  {
   "cell_type": "markdown",
   "metadata": {},
   "source": [
    "### "
   ]
  },
  {
   "cell_type": "markdown",
   "metadata": {},
   "source": [
    "## Finding the Accuracy"
   ]
  },
  {
   "cell_type": "code",
   "execution_count": 33,
   "metadata": {},
   "outputs": [
    {
     "name": "stdout",
     "output_type": "stream",
     "text": [
      "Accuracy: 1.0\n"
     ]
    }
   ],
   "source": [
    "# Find the accuracy of the model\n",
    "accuracy = np.sum(predictions == train_y) / len(train_y)\n",
    "print('Accuracy:', accuracy)"
   ]
  },
  {
   "cell_type": "markdown",
   "metadata": {},
   "source": [
    "## Weights"
   ]
  },
  {
   "cell_type": "code",
   "execution_count": 34,
   "metadata": {},
   "outputs": [
    {
     "name": "stdout",
     "output_type": "stream",
     "text": [
      "Cost: 0.22297248618483412\n",
      "Weights: [-3.38505506  2.06889399  2.09348852]\n"
     ]
    }
   ],
   "source": [
    "print('Cost:', cost_function(w, train_x, train_y))\n",
    "print(\"Weights:\", w)\n"
   ]
  },
  {
   "cell_type": "code",
   "execution_count": null,
   "metadata": {},
   "outputs": [],
   "source": []
  }
 ],
 "metadata": {
  "kernelspec": {
   "display_name": "mlenv",
   "language": "python",
   "name": "mlenv"
  },
  "language_info": {
   "codemirror_mode": {
    "name": "ipython",
    "version": 3
   },
   "file_extension": ".py",
   "mimetype": "text/x-python",
   "name": "python",
   "nbconvert_exporter": "python",
   "pygments_lexer": "ipython3",
   "version": "3.11.3"
  }
 },
 "nbformat": 4,
 "nbformat_minor": 2
}
