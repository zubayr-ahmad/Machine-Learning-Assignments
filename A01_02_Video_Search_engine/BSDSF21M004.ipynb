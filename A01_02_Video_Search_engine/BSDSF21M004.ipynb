{
 "cells": [
  {
   "cell_type": "code",
   "execution_count": 12,
   "metadata": {},
   "outputs": [],
   "source": [
    "from youtube_transcript_api import YouTubeTranscriptApi as yta\n",
    "import re"
   ]
  },
  {
   "cell_type": "code",
   "execution_count": 13,
   "metadata": {},
   "outputs": [],
   "source": [
    "def print_time(search_word,time):\n",
    "    print(f\"'{search_word}' was mentioned at:\")\n",
    "    # calculate the accurate time according to the video's duration\n",
    "    for t in time:\n",
    "        hours = int(t // 3600)\n",
    "        min = int((t // 60) % 60)\n",
    "        sec = int(t % 60)\n",
    "        print(f\"{hours:02d}:{min:02d}:{sec:02d}\")"
   ]
  },
  {
   "cell_type": "code",
   "execution_count": 14,
   "metadata": {},
   "outputs": [],
   "source": [
    "def extract_video_id(youtube_url):\n",
    "    # Check if the URL is a valid YouTube video URL\n",
    "    if \"youtube.com/watch\" not in youtube_url:\n",
    "        print(\"Invalid YouTube URL\")\n",
    "        return None\n",
    "\n",
    "    # Find the index of 'v=' in the URL\n",
    "    index_v = youtube_url.find('v=')\n",
    "\n",
    "    # Check if 'v=' is found in the URL\n",
    "    if index_v == -1:\n",
    "        print(\"Video ID not found in the URL\")\n",
    "        return None\n",
    "\n",
    "    # Extract the video ID starting from 'v='\n",
    "    video_id_start = index_v + 2  # Move past 'v='\n",
    "    video_id_end = youtube_url.find('&', video_id_start)\n",
    "    video_id = youtube_url[video_id_start:video_id_end] if video_id_end != -1 else youtube_url[video_id_start:]\n",
    "\n",
    "    return video_id"
   ]
  },
  {
   "cell_type": "code",
   "execution_count": 15,
   "metadata": {},
   "outputs": [],
   "source": [
    "youtube_url = \"https://www.youtube.com/watch?v=1aA1WGON49E\"\n",
    "video_id = extract_video_id(youtube_url)\n",
    "transcript = yta.get_transcript(video_id, languages=('us', 'en'))"
   ]
  },
  {
   "cell_type": "code",
   "execution_count": 16,
   "metadata": {},
   "outputs": [
    {
     "data": {
      "text/plain": [
       "[{'text': 'Transcriber: Victor Borges\\nReviewer: David DeRuwe',\n",
       "  'start': 0.0,\n",
       "  'duration': 7.0},\n",
       " {'text': 'Wow,', 'start': 11.791, 'duration': 1.008},\n",
       " {'text': 'what an audience.', 'start': 13.03, 'duration': 1.19},\n",
       " {'text': \"But if I'm being honest,\\nI don't care what you think of my talk.\",\n",
       "  'start': 14.515,\n",
       "  'duration': 3.016},\n",
       " {'text': \"I don't.\", 'start': 18.097, 'duration': 1.004},\n",
       " {'text': 'I care what the internet\\nthinks of my talk.',\n",
       "  'start': 19.101,\n",
       "  'duration': 1.999},\n",
       " {'text': '(Laughter)', 'start': 21.1, 'duration': 1.001},\n",
       " {'text': 'Because they are the ones\\nwho get it seen and shared.',\n",
       "  'start': 22.101,\n",
       "  'duration': 2.478},\n",
       " {'text': \"And I think that's where\\nmost people get it wrong.\",\n",
       "  'start': 24.579,\n",
       "  'duration': 2.328},\n",
       " {'text': \"They're talking to you, here,\", 'start': 26.907, 'duration': 1.667},\n",
       " {'text': 'instead of talking to you,\\nrandom person scrolling Facebook.',\n",
       "  'start': 28.66,\n",
       "  'duration': 4.63},\n",
       " {'text': 'Thanks for the click.', 'start': 34.323, 'duration': 1.18},\n",
       " {'text': 'You see, back in 2009,', 'start': 36.141, 'duration': 1.684},\n",
       " {'text': 'we all had these weird little things\\ncalled attention spans.',\n",
       "  'start': 37.855,\n",
       "  'duration': 3.545},\n",
       " {'text': '(Laughter)', 'start': 41.4, 'duration': 1.0},\n",
       " {'text': \"Yeah, they're gone. They're gone.\\nWe killed them. They're dead.\",\n",
       "  'start': 42.4,\n",
       "  'duration': 3.196},\n",
       " {'text': \"I'm trying to think of the last time\\nI watched an 18-minute TED talk.\",\n",
       "  'start': 46.287,\n",
       "  'duration': 3.773},\n",
       " {'text': \"It's been years, literally years.\",\n",
       "  'start': 50.14,\n",
       "  'duration': 2.5},\n",
       " {'text': \"So if you're giving\\na TED talk, keep it quick.\",\n",
       "  'start': 52.865,\n",
       "  'duration': 2.695},\n",
       " {'text': \"I'm doing mine in under a minute.\", 'start': 55.7, 'duration': 1.8},\n",
       " {'text': \"I'm at 44 seconds right now;\", 'start': 57.56, 'duration': 1.595},\n",
       " {'text': \"that means we've got\\ntime for one final joke.\",\n",
       "  'start': 59.155,\n",
       "  'duration': 2.128},\n",
       " {'text': 'Why are balloons so expensive?', 'start': 61.45, 'duration': 3.05},\n",
       " {'text': '(Audience) \"Why?\"', 'start': 64.58, 'duration': 1.125},\n",
       " {'text': 'Woody Roseland: Inflation.', 'start': 65.705, 'duration': 1.236},\n",
       " {'text': '(Laughter)', 'start': 66.941, 'duration': 1.059},\n",
       " {'text': '(Applause)', 'start': 68.0, 'duration': 2.666}]"
      ]
     },
     "execution_count": 16,
     "metadata": {},
     "output_type": "execute_result"
    }
   ],
   "source": [
    "transcript"
   ]
  },
  {
   "cell_type": "code",
   "execution_count": 17,
   "metadata": {},
   "outputs": [
    {
     "name": "stdout",
     "output_type": "stream",
     "text": [
      "['Transcriber: Victor Borges\\nReviewer: David DeRuwe', 'Wow,', 'what an audience.', \"But if I'm being honest,\\nI don't care what you think of my talk.\", \"I don't.\", 'I care what the internet\\nthinks of my talk.', '(Laughter)', 'Because they are the ones\\nwho get it seen and shared.', \"And I think that's where\\nmost people get it wrong.\", \"They're talking to you, here,\", 'instead of talking to you,\\nrandom person scrolling Facebook.', 'Thanks for the click.', 'You see, back in 2009,', 'we all had these weird little things\\ncalled attention spans.', '(Laughter)', \"Yeah, they're gone. They're gone.\\nWe killed them. They're dead.\", \"I'm trying to think of the last time\\nI watched an 18-minute TED talk.\", \"It's been years, literally years.\", \"So if you're giving\\na TED talk, keep it quick.\", \"I'm doing mine in under a minute.\", \"I'm at 44 seconds right now;\", \"that means we've got\\ntime for one final joke.\", 'Why are balloons so expensive?', '(Audience) \"Why?\"', 'Woody Roseland: Inflation.', '(Laughter)', '(Applause)']\n",
      "['Transcriber Victor BorgesReviewer David DeRuwe', 'Wow', 'what an audience', 'But if Im being honestI dont care what you think of my talk', 'I dont', 'I care what the internetthinks of my talk', 'Laughter', 'Because they are the oneswho get it seen and shared', 'And I think thats wheremost people get it wrong', 'Theyre talking to you here', 'instead of talking to yourandom person scrolling Facebook', 'Thanks for the click', 'You see back in 2009', 'we all had these weird little thingscalled attention spans', 'Laughter', 'Yeah theyre gone Theyre goneWe killed them Theyre dead', 'Im trying to think of the last timeI watched an 18-minute TED talk', 'Its been years literally years', 'So if youre givinga TED talk keep it quick', 'Im doing mine in under a minute', 'Im at 44 seconds right now', 'that means weve gottime for one final joke', 'Why are balloons so expensive', 'Audience Why', 'Woody Roseland Inflation', 'Laughter', 'Applause']\n"
     ]
    }
   ],
   "source": [
    "data1 = [t['text'] for t in transcript]\n",
    "data2 = [re.sub(r\"[^a-zA-Z0-9-1şğöüçiIŞĞÖÜÇİ ]\", \"\", line) for line in data1]\n",
    "print(data1)\n",
    "print(data2)"
   ]
  },
  {
   "cell_type": "code",
   "execution_count": 8,
   "metadata": {},
   "outputs": [],
   "source": [
    "def give_time_stamps(transcript,data2, search_word):\n",
    "    time = []\n",
    "    for i, line in enumerate(data2):\n",
    "        if search_word in line:\n",
    "            start_time = transcript[i]['start']\n",
    "            time.append(start_time)\n",
    "    return time"
   ]
  },
  {
   "cell_type": "code",
   "execution_count": 11,
   "metadata": {},
   "outputs": [
    {
     "name": "stdout",
     "output_type": "stream",
     "text": [
      "'you' was mentioned at:\n",
      "00:00:14\n",
      "00:00:26\n",
      "00:00:28\n",
      "00:00:52\n"
     ]
    }
   ],
   "source": [
    "search_word = \"you\"\n",
    "time = give_time_stamps(transcript, data2, search_word)\n",
    "print_time(search_word,time)"
   ]
  },
  {
   "cell_type": "code",
   "execution_count": null,
   "metadata": {},
   "outputs": [],
   "source": []
  }
 ],
 "metadata": {
  "kernelspec": {
   "display_name": "mlenv",
   "language": "python",
   "name": "python3"
  },
  "language_info": {
   "codemirror_mode": {
    "name": "ipython",
    "version": 3
   },
   "file_extension": ".py",
   "mimetype": "text/x-python",
   "name": "python",
   "nbconvert_exporter": "python",
   "pygments_lexer": "ipython3",
   "version": "3.11.3"
  }
 },
 "nbformat": 4,
 "nbformat_minor": 2
}
